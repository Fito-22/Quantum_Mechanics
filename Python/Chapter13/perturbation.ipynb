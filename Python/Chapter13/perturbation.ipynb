{
 "cells": [
  {
   "cell_type": "code",
   "execution_count": 1,
   "metadata": {},
   "outputs": [],
   "source": [
    "import matplotlib.pyplot as plt\n",
    "import numpy as np"
   ]
  },
  {
   "cell_type": "markdown",
   "metadata": {},
   "source": [
    "# FAT PROTON"
   ]
  },
  {
   "cell_type": "code",
   "execution_count": 67,
   "metadata": {},
   "outputs": [
    {
     "name": "stdout",
     "output_type": "stream",
     "text": [
      "-5.449680909393794e-19\n"
     ]
    }
   ],
   "source": [
    "n = 2\n",
    "Z = 1\n",
    "m = 9.1093837015e-31\n",
    "e = 1.602176634e-19\n",
    "ep = 8.8541878128e-12\n",
    "hbar = 1.054571817e-34\n",
    "b = 2.64588603e-11\n",
    "R = 1e-15\n",
    "x = R/b\n",
    "\n",
    "E = (-Z**2*e**4*m)/(32*np.pi**2*ep**2*hbar**2*n**2)\n",
    "print(E)\n",
    "\n",
    "\n",
    "\n",
    "def E(n):\n",
    "    return (-Z**2 * e**4 * m) / (32 * np.pi**2 * ep**2 * hbar**2 * n**2)\n"
   ]
  },
  {
   "cell_type": "code",
   "execution_count": 68,
   "metadata": {},
   "outputs": [
    {
     "name": "stdout",
     "output_type": "stream",
     "text": [
      "-1.069323216975945e-19\n"
     ]
    }
   ],
   "source": [
    "# n=1, j=m=0\n",
    "mu_1 = e**2 * b**2 / (8*np.pi*ep*R**3)*(12+x**3-3*x**2-12*np.exp(-x)-12*x*np.exp(-x)-3*x**2*np.exp(-x))\n",
    "print(mu_1)"
   ]
  },
  {
   "cell_type": "code",
   "execution_count": 69,
   "metadata": {},
   "outputs": [
    {
     "name": "stdout",
     "output_type": "stream",
     "text": [
      "-2.295221796726887e-18\n"
     ]
    }
   ],
   "source": [
    "# n=2, j=m=0\n",
    "mu_1 = (e**2 * b**2 / (128 * np.pi * ep * R**3)) * ( 2688 - 48*x**2 + 4*x**3 -(2688 + 1344 * x + 288 * x**2 + 36 * x**3 + 3 * x**4) * np.exp(-x/2) )\n",
    "print(mu_1)\n"
   ]
  },
  {
   "cell_type": "code",
   "execution_count": 73,
   "metadata": {},
   "outputs": [
    {
     "name": "stdout",
     "output_type": "stream",
     "text": [
      "-1.5301478644845912e-18\n"
     ]
    }
   ],
   "source": [
    "# n=2,j=1,m=1,0,-1\n",
    "mu_1 = (e**2 * b**2 / (2**11 * 3 * np.pi * ep * R**3)) * (92160-2304*x**2+192*x**3 - (92160 + 46080*x + 9216*x**2 + 960*x**3 + 48*x**4)*np.exp(-x/2))\n",
    "print(mu_1)"
   ]
  },
  {
   "cell_type": "markdown",
   "metadata": {},
   "source": [
    "# Constant field"
   ]
  },
  {
   "cell_type": "code",
   "execution_count": null,
   "metadata": {},
   "outputs": [],
   "source": []
  },
  {
   "cell_type": "code",
   "execution_count": null,
   "metadata": {},
   "outputs": [],
   "source": []
  }
 ],
 "metadata": {
  "kernelspec": {
   "display_name": "Python 3",
   "language": "python",
   "name": "python3"
  },
  "language_info": {
   "codemirror_mode": {
    "name": "ipython",
    "version": 3
   },
   "file_extension": ".py",
   "mimetype": "text/x-python",
   "name": "python",
   "nbconvert_exporter": "python",
   "pygments_lexer": "ipython3",
   "version": "3.8.12"
  }
 },
 "nbformat": 4,
 "nbformat_minor": 2
}
